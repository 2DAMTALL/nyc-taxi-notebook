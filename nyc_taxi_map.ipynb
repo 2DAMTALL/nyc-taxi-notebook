{
 "cells": [
  {
   "cell_type": "markdown",
   "metadata": {},
   "source": [
    "# How to Visualize New York City Using Taxi Location Data and ggplot2\n",
    "\n",
    "by [Max Woolf](http://minimaxir.com)\n",
    "\n",
    "This notebook is the complement to my blog post [How to Visualize New York City Using Taxi Location Data and ggplot2](http://minimaxir.com/2015/11/nyc-ggplot2-howto/).\n",
    "\n",
    "*This notebook is licensed under the MIT License. If you use the code or data visualization designs contained within this notebook, it would be greatly appreciated if proper attribution is given back to this notebook and/or myself. Thanks! :)*"
   ]
  },
  {
   "cell_type": "code",
   "execution_count": 1,
   "metadata": {
    "collapsed": false
   },
   "outputs": [
    {
     "name": "stderr",
     "output_type": "stream",
     "text": [
      "\n",
      "Attaching package: ‘dplyr’\n",
      "\n",
      "The following objects are masked from ‘package:stats’:\n",
      "\n",
      "    filter, lag\n",
      "\n",
      "The following objects are masked from ‘package:base’:\n",
      "\n",
      "    intersect, setdiff, setequal, union\n",
      "\n",
      "Registering fonts with R\n",
      "\n",
      "Attaching package: ‘scales’\n",
      "\n",
      "The following objects are masked from ‘package:readr’:\n",
      "\n",
      "    col_factor, col_numeric\n",
      "\n"
     ]
    },
    {
     "data": {
      "text/plain": [
       "R version 3.2.2 (2015-08-14)\n",
       "Platform: x86_64-apple-darwin13.4.0 (64-bit)\n",
       "Running under: OS X 10.11.1 (El Capitan)\n",
       "\n",
       "locale:\n",
       "[1] en_US.UTF-8/en_US.UTF-8/en_US.UTF-8/C/en_US.UTF-8/en_US.UTF-8\n",
       "\n",
       "attached base packages:\n",
       "[1] grid      stats     graphics  grDevices utils     datasets  methods  \n",
       "[8] base     \n",
       "\n",
       "other attached packages:\n",
       "[1] bigrquery_0.1.0    stringr_1.0.0      digest_0.6.8       RColorBrewer_1.1-2\n",
       "[5] scales_0.3.0       extrafont_0.17     ggplot2_1.0.1      dplyr_0.4.3       \n",
       "[9] readr_0.1.1       \n",
       "\n",
       "loaded via a namespace (and not attached):\n",
       " [1] Rcpp_0.12.1      Rttf2pt1_1.3.3   magrittr_1.5     MASS_7.3-43     \n",
       " [5] munsell_0.4.2    uuid_0.1-2       colorspace_1.2-6 R6_2.1.1        \n",
       " [9] httr_1.0.0       plyr_1.8.3       tools_3.2.2      parallel_3.2.2  \n",
       "[13] gtable_0.1.2     DBI_0.3.1        extrafontdb_1.0  assertthat_0.1  \n",
       "[17] IRdisplay_0.3    reshape2_1.4.1   repr_0.4         base64enc_0.1-3 \n",
       "[21] IRkernel_0.5     evaluate_0.8     rzmq_0.7.7       stringi_0.5-5   \n",
       "[25] jsonlite_0.9.17  proto_0.3-10    "
      ]
     },
     "execution_count": 1,
     "metadata": {},
     "output_type": "execute_result"
    }
   ],
   "source": [
    "options(warn=-1)\n",
    "\n",
    "# IMPORTANT: This assumes that all packages in \"Rstart.R\" are installed,\n",
    "# and the fonts \"Source Sans Pro\" and \"Open Sans Condensed Bold\" are installed\n",
    "# via extrafont. If ggplot2 charts fail to render, you may need to change/remove the theme call.\n",
    "\n",
    "source(\"Rstart.R\")\n",
    "library(bigrquery)\n",
    "library(methods) # needed for query_exec in Jupyter: https://github.com/hadley/bigrquery/issues/32\n",
    "\n",
    "options(repr.plot.mimetypes = 'image/png', repr.plot.width=4, repr.plot.height=3, repr.plot.res=300)\n",
    "\n",
    "sessionInfo()"
   ]
  },
  {
   "cell_type": "markdown",
   "metadata": {
    "collapsed": true
   },
   "source": [
    "## rbigquery\n",
    "\n",
    "This uses the `rbigquery` R package to query the data. Ensure that it is set up correctly, with your own project name from BigQuery."
   ]
  },
  {
   "cell_type": "code",
   "execution_count": 2,
   "metadata": {
    "collapsed": false
   },
   "outputs": [],
   "source": [
    "project_id <- <FILL IN>   # DO NOT SHARE!"
   ]
  },
  {
   "cell_type": "markdown",
   "metadata": {},
   "source": [
    "# Getting the Data via BigQuery\n",
    "\n",
    "Gather the query and execute. May take a couple minutes to run data + 15 minutes to retrieve the data! Also uses a [query optimization](https://www.reddit.com/r/bigquery/comments/3fo9ao/nyc_taxi_trips_now_officially_shared_by_the_nyc/ctqfr8h) recommended by Felipe Hoffa."
   ]
  },
  {
   "cell_type": "code",
   "execution_count": 3,
   "metadata": {
    "collapsed": false
   },
   "outputs": [
    {
     "name": "stdout",
     "output_type": "stream",
     "text": [
      "\r",
      "Retrieving data:  5.3s\r",
      "Retrieving data:  7.0s\r",
      "Retrieving data:  8.1s\r",
      "Retrieving data:  9.2s\r",
      "Retrieving data: 10.4s\r",
      "Retrieving data: 12.6s\r",
      "Retrieving data: 13.7s\r",
      "Retrieving data: 14.7s\r",
      "Retrieving data: 15.8s\r",
      "Retrieving data: 17.0s\r",
      "Retrieving data: 18.3s\r",
      "Retrieving data: 21.3s\r",
      "Retrieving data: 22.3s\r",
      "Retrieving data: 23.4s\r",
      "Retrieving data: 24.8s\r",
      "Retrieving data: 25.8s\r",
      "Retrieving data: 26.9s\r",
      "Retrieving data: 28.2s\r",
      "Retrieving data: 29.2s\r",
      "Retrieving data: 30.6s\r",
      "Retrieving data: 31.8s\r",
      "Retrieving data: 32.9s\r",
      "Retrieving data: 34.1s\r",
      "Retrieving data: 35.7s\r",
      "Retrieving data: 37.1s\r",
      "Retrieving data: 38.2s\r",
      "Retrieving data: 39.5s\r",
      "Retrieving data: 41.1s\r",
      "Retrieving data: 42.4s\r",
      "Retrieving data: 43.5s\r",
      "Retrieving data: 44.6s\r",
      "Retrieving data: 46.4s\r",
      "Retrieving data: 47.6s\r",
      "Retrieving data: 48.8s\r",
      "Retrieving data: 49.9s\r",
      "Retrieving data: 51.2s\r",
      "Retrieving data: 56.1s\r",
      "Retrieving data: 58.0s\r",
      "Retrieving data: 60.2s\r",
      "Retrieving data: 61.8s\r",
      "Retrieving data: 63.3s\r",
      "Retrieving data: 64.6s\r",
      "Retrieving data: 65.7s\r",
      "Retrieving data: 67.0s\r",
      "Retrieving data: 68.2s\r",
      "Retrieving data: 69.4s\r",
      "Retrieving data: 70.7s\r",
      "Retrieving data: 72.0s\r",
      "Retrieving data: 73.5s\r",
      "Retrieving data: 75.0s\r",
      "Retrieving data: 80.1s\r",
      "Retrieving data: 81.4s\r",
      "Retrieving data: 82.6s\r",
      "Retrieving data: 83.7s\r",
      "Retrieving data: 85.3s\r",
      "Retrieving data: 86.4s\r",
      "Retrieving data: 87.6s\r",
      "Retrieving data: 89.6s\r",
      "Retrieving data: 90.8s\r",
      "Retrieving data: 92.0s\r",
      "Retrieving data: 93.6s\r",
      "Retrieving data: 94.7s\r",
      "Retrieving data: 95.8s\r",
      "Retrieving data: 97.0s\r",
      "Retrieving data: 98.3s\r",
      "Retrieving data: 99.4s\r",
      "Retrieving data: 100.8s\r",
      "Retrieving data: 101.9s\r",
      "Retrieving data: 102.9s\r",
      "Retrieving data: 104.2s\r",
      "Retrieving data: 105.5s\r",
      "Retrieving data: 106.7s\r",
      "Retrieving data: 107.9s\r",
      "Retrieving data: 109.1s\r",
      "Retrieving data: 110.2s\r",
      "Retrieving data: 111.6s\r",
      "Retrieving data: 112.8s\r",
      "Retrieving data: 114.0s\r",
      "Retrieving data: 115.2s\r",
      "Retrieving data: 116.2s\r",
      "Retrieving data: 117.4s\r",
      "Retrieving data: 118.7s\r",
      "Retrieving data: 120.0s\r",
      "Retrieving data: 121.4s\r",
      "Retrieving data: 122.7s\r",
      "Retrieving data: 123.8s\r",
      "Retrieving data: 125.3s\r",
      "Retrieving data: 126.5s\r",
      "Retrieving data: 127.7s\r",
      "Retrieving data: 128.8s\r",
      "Retrieving data: 130.0s\r",
      "Retrieving data: 131.3s\r",
      "Retrieving data: 137.0s\r",
      "Retrieving data: 138.4s\r",
      "Retrieving data: 143.3s\r",
      "Retrieving data: 144.5s\r",
      "Retrieving data: 146.1s\r",
      "Retrieving data: 147.2s\r",
      "Retrieving data: 150.6s\r",
      "Retrieving data: 151.9s\r",
      "Retrieving data: 153.8s\r",
      "Retrieving data: 154.8s\r",
      "Retrieving data: 156.2s\r",
      "Retrieving data: 157.4s\r",
      "Retrieving data: 158.9s\r",
      "Retrieving data: 160.2s\r",
      "Retrieving data: 161.4s\r",
      "Retrieving data: 162.7s\r",
      "Retrieving data: 163.8s\r",
      "Retrieving data: 165.2s\r",
      "Retrieving data: 166.3s\r",
      "Retrieving data: 167.6s\r",
      "Retrieving data: 168.7s\r",
      "Retrieving data: 170.0s\r",
      "Retrieving data: 171.3s\r",
      "Retrieving data: 172.5s\r",
      "Retrieving data: 173.6s\r",
      "Retrieving data: 174.9s\r",
      "Retrieving data: 176.2s\r",
      "Retrieving data: 177.6s\r",
      "Retrieving data: 178.9s\r",
      "Retrieving data: 180.3s\r",
      "Retrieving data: 181.3s\r",
      "Retrieving data: 182.6s\r",
      "Retrieving data: 183.8s\r",
      "Retrieving data: 185.0s\r",
      "Retrieving data: 186.3s\r",
      "Retrieving data: 187.6s\r",
      "Retrieving data: 189.6s\r",
      "Retrieving data: 190.8s\r",
      "Retrieving data: 192.1s\r",
      "Retrieving data: 195.8s\r",
      "Retrieving data: 196.8s\r",
      "Retrieving data: 197.9s\r",
      "Retrieving data: 199.0s\r",
      "Retrieving data: 200.3s\r",
      "Retrieving data: 201.3s\r",
      "Retrieving data: 202.5s\r",
      "Retrieving data: 203.8s\r",
      "Retrieving data: 205.0s\r",
      "Retrieving data: 206.2s\r",
      "Retrieving data: 207.5s\r",
      "Retrieving data: 208.7s\r",
      "Retrieving data: 209.9s\r",
      "Retrieving data: 211.1s\r",
      "Retrieving data: 212.8s\r",
      "Retrieving data: 213.9s\r",
      "Retrieving data: 221.0s\r",
      "Retrieving data: 222.2s\r",
      "Retrieving data: 223.2s\r",
      "Retrieving data: 224.3s\r",
      "Retrieving data: 225.4s\r",
      "Retrieving data: 226.8s\r",
      "Retrieving data: 227.8s\r",
      "Retrieving data: 228.9s\r",
      "Retrieving data: 230.4s\r",
      "Retrieving data: 231.7s\r",
      "Retrieving data: 232.9s\r",
      "Retrieving data: 234.3s\r",
      "Retrieving data: 235.5s\r",
      "Retrieving data: 236.6s\r",
      "Retrieving data: 237.9s\r",
      "Retrieving data: 239.0s\r",
      "Retrieving data: 240.5s\r",
      "Retrieving data: 241.7s\r",
      "Retrieving data: 243.0s\r",
      "Retrieving data: 244.3s\r",
      "Retrieving data: 245.5s\r",
      "Retrieving data: 246.6s\r",
      "Retrieving data: 247.8s\r",
      "Retrieving data: 249.2s\r",
      "Retrieving data: 250.9s\r",
      "Retrieving data: 252.5s\r",
      "Retrieving data: 254.3s\r",
      "Retrieving data: 255.6s\r",
      "Retrieving data: 256.8s\r",
      "Retrieving data: 259.0s\r",
      "Retrieving data: 260.5s\r",
      "Retrieving data: 261.8s\r",
      "Retrieving data: 263.0s\r",
      "Retrieving data: 264.4s\r",
      "Retrieving data: 265.7s\r",
      "Retrieving data: 267.1s\r",
      "Retrieving data: 268.8s\r",
      "Retrieving data: 270.6s\r",
      "Retrieving data: 271.9s\r",
      "Retrieving data: 273.2s\r",
      "Retrieving data: 274.4s\r",
      "Retrieving data: 275.7s\r",
      "Retrieving data: 277.0s\r",
      "Retrieving data: 278.2s\r",
      "Retrieving data: 280.9s\r",
      "Retrieving data: 282.0s\r",
      "Retrieving data: 283.3s\r",
      "Retrieving data: 284.4s\r",
      "Retrieving data: 285.9s\r",
      "Retrieving data: 287.4s\r",
      "Retrieving data: 288.5s\r",
      "Retrieving data: 289.9s\r",
      "Retrieving data: 291.0s\r",
      "Retrieving data: 292.6s\r",
      "Retrieving data: 293.9s\r",
      "Retrieving data: 295.1s\r",
      "Retrieving data: 296.3s\r",
      "Retrieving data: 297.7s\r",
      "Retrieving data: 298.8s\r",
      "Retrieving data: 300.1s\r",
      "Retrieving data: 301.2s\r",
      "Retrieving data: 302.2s\r",
      "Retrieving data: 303.4s\r",
      "Retrieving data: 304.5s\r",
      "Retrieving data: 305.5s\r",
      "Retrieving data: 306.9s\r",
      "Retrieving data: 308.0s\r",
      "Retrieving data: 309.3s\r",
      "Retrieving data: 310.6s\r",
      "Retrieving data: 311.6s\r",
      "Retrieving data: 312.9s\r",
      "Retrieving data: 314.2s\r",
      "Retrieving data: 315.3s\r",
      "Retrieving data: 316.6s\r",
      "Retrieving data: 317.8s\r",
      "Retrieving data: 319.6s\r",
      "Retrieving data: 321.1s\r",
      "Retrieving data: 323.6s\r",
      "Retrieving data: 324.7s\r",
      "Retrieving data: 325.9s\r",
      "Retrieving data: 327.1s\r",
      "Retrieving data: 328.3s\r",
      "Retrieving data: 329.5s\r",
      "Retrieving data: 330.7s\r",
      "Retrieving data: 332.0s\r",
      "Retrieving data: 333.2s\r",
      "Retrieving data: 334.3s\r",
      "Retrieving data: 335.8s\r",
      "Retrieving data: 336.9s\r",
      "Retrieving data: 338.1s\r",
      "Retrieving data: 339.2s\r",
      "Retrieving data: 340.3s\r",
      "Retrieving data: 341.5s\r",
      "Retrieving data: 342.8s\r",
      "Retrieving data: 346.8s\r",
      "Retrieving data: 348.4s\r",
      "Retrieving data: 349.4s\r",
      "Retrieving data: 350.7s\r",
      "Retrieving data: 352.2s\r",
      "Retrieving data: 353.4s\r",
      "Retrieving data: 365.6s\r",
      "Retrieving data: 366.9s\r",
      "Retrieving data: 368.1s\r",
      "Retrieving data: 369.7s\r",
      "Retrieving data: 371.0s\r",
      "Retrieving data: 372.2s\r",
      "Retrieving data: 373.4s\r",
      "Retrieving data: 374.8s\r",
      "Retrieving data: 376.0s\r",
      "Retrieving data: 377.3s\r",
      "Retrieving data: 378.4s\r",
      "Retrieving data: 379.7s\r",
      "Retrieving data: 380.9s\r",
      "Retrieving data: 382.1s\r",
      "Retrieving data: 383.5s\r",
      "Retrieving data: 384.8s\r",
      "Retrieving data: 386.0s\r",
      "Retrieving data: 387.3s\r",
      "Retrieving data: 388.5s\r",
      "Retrieving data: 389.8s\r",
      "Retrieving data: 391.1s\r",
      "Retrieving data: 392.3s\r",
      "Retrieving data: 393.5s\r",
      "Retrieving data: 395.0s\r",
      "Retrieving data: 396.2s\r",
      "Retrieving data: 397.4s\r",
      "Retrieving data: 398.6s\r",
      "Retrieving data: 400.1s\r",
      "Retrieving data: 401.2s\r",
      "Retrieving data: 402.3s\r",
      "Retrieving data: 403.6s\r",
      "Retrieving data: 404.8s\r",
      "Retrieving data: 406.1s\r",
      "Retrieving data: 407.3s\r",
      "Retrieving data: 408.3s\r",
      "Retrieving data: 409.5s\r",
      "Retrieving data: 410.8s\r",
      "Retrieving data: 412.1s\r",
      "Retrieving data: 413.5s\r",
      "Retrieving data: 414.7s\r",
      "Retrieving data: 415.8s\r",
      "Retrieving data: 417.2s\r",
      "Retrieving data: 418.4s\r",
      "Retrieving data: 419.8s\r",
      "Retrieving data: 421.1s\r",
      "Retrieving data: 422.3s\r",
      "Retrieving data: 423.5s\r",
      "Retrieving data: 424.7s\r",
      "Retrieving data: 426.2s\r",
      "Retrieving data: 427.7s\r",
      "Retrieving data: 429.1s\r",
      "Retrieving data: 430.7s\r",
      "Retrieving data: 433.0s\r",
      "Retrieving data: 438.1s\r",
      "Retrieving data: 439.3s\r",
      "Retrieving data: 440.4s\r",
      "Retrieving data: 441.7s\r",
      "Retrieving data: 443.0s\r",
      "Retrieving data: 444.2s\r",
      "Retrieving data: 445.5s\r",
      "Retrieving data: 446.7s\r",
      "Retrieving data: 447.8s\r",
      "Retrieving data: 449.1s\r",
      "Retrieving data: 450.4s\r",
      "Retrieving data: 451.4s\r",
      "Retrieving data: 452.9s\r",
      "Retrieving data: 454.3s\r",
      "Retrieving data: 455.6s\r",
      "Retrieving data: 456.8s\r",
      "Retrieving data: 458.0s\r",
      "Retrieving data: 478.3s\r",
      "Retrieving data: 479.7s\r",
      "Retrieving data: 481.2s\r",
      "Retrieving data: 506.0s\r",
      "Retrieving data: 507.5s\r",
      "Retrieving data: 508.9s\r",
      "Retrieving data: 510.2s\r",
      "Retrieving data: 511.8s\r",
      "Retrieving data: 513.3s\r",
      "Retrieving data: 514.7s\r",
      "Retrieving data: 516.4s\r",
      "Retrieving data: 537.0s\r",
      "Retrieving data: 538.6s\r",
      "Retrieving data: 540.0s\r",
      "Retrieving data: 541.3s\r",
      "Retrieving data: 543.1s\r",
      "Retrieving data: 545.0s\r",
      "Retrieving data: 546.2s\r",
      "Retrieving data: 547.8s\r",
      "Retrieving data: 548.9s\r",
      "Retrieving data: 550.3s\r",
      "Retrieving data: 551.6s\r",
      "Retrieving data: 552.8s\r",
      "Retrieving data: 554.1s\r",
      "Retrieving data: 561.8s\r",
      "Retrieving data: 563.1s\r",
      "Retrieving data: 564.3s\r",
      "Retrieving data: 565.4s\r",
      "Retrieving data: 566.7s\r",
      "Retrieving data: 567.8s\r",
      "Retrieving data: 568.9s\r",
      "Retrieving data: 570.1s\r",
      "Retrieving data: 571.4s\r",
      "Retrieving data: 572.6s\r",
      "Retrieving data: 574.2s\r",
      "Retrieving data: 575.3s\r",
      "Retrieving data: 576.5s\r",
      "Retrieving data: 601.6s\r",
      "Retrieving data: 603.5s\r",
      "Retrieving data: 605.4s\r",
      "Retrieving data: 606.8s\r",
      "Retrieving data: 608.8s\r",
      "Retrieving data: 610.7s\r",
      "Retrieving data: 612.9s\r",
      "Retrieving data: 614.6s\r",
      "Retrieving data: 617.4s\r",
      "Retrieving data: 619.0s\r",
      "Retrieving data: 622.7s\r",
      "Retrieving data: 625.0s\r",
      "Retrieving data: 627.4s\r",
      "Retrieving data: 629.9s\r",
      "Retrieving data: 631.3s\r",
      "Retrieving data: 633.1s\r",
      "Retrieving data: 635.5s\r",
      "Retrieving data: 645.7s\r",
      "Retrieving data: 647.4s\r",
      "Retrieving data: 648.8s\r",
      "Retrieving data: 653.0s\r",
      "Retrieving data: 654.4s\r",
      "Retrieving data: 655.8s\r",
      "Retrieving data: 657.2s\r",
      "Retrieving data: 658.7s\r",
      "Retrieving data: 660.3s\r",
      "Retrieving data: 661.8s\r",
      "Retrieving data: 663.3s\r",
      "Retrieving data: 664.6s\r",
      "Retrieving data: 666.1s\r",
      "Retrieving data: 667.8s\r",
      "Retrieving data: 691.9s\r",
      "Retrieving data: 693.7s\r",
      "Retrieving data: 695.3s\r",
      "Retrieving data: 696.8s\r",
      "Retrieving data: 698.6s\r",
      "Retrieving data: 700.1s\r",
      "Retrieving data: 701.4s\r",
      "Retrieving data: 702.9s\r",
      "Retrieving data: 704.4s\r",
      "Retrieving data: 705.8s\r",
      "Retrieving data: 707.2s\r",
      "Retrieving data: 708.5s\r",
      "Retrieving data: 724.5s\r",
      "Retrieving data: 747.5s\r",
      "Retrieving data: 764.9s\r",
      "Retrieving data: 766.4s\r",
      "Retrieving data: 781.9s\r",
      "Retrieving data: 783.1s\r",
      "Retrieving data: 784.6s\r",
      "Retrieving data: 785.8s\r",
      "Retrieving data: 787.1s\r",
      "Retrieving data: 788.4s\r",
      "Retrieving data: 789.9s\r",
      "Retrieving data: 791.0s\r",
      "Retrieving data: 792.4s\r",
      "Retrieving data: 793.5s\r",
      "Retrieving data: 795.0s\r",
      "Retrieving data: 796.4s\r",
      "Retrieving data: 797.7s\r",
      "Retrieving data: 799.0s\r",
      "Retrieving data: 800.3s\r",
      "Retrieving data: 801.9s\r",
      "Retrieving data: 803.2s\r",
      "Retrieving data: 804.4s\r",
      "Retrieving data: 805.9s\r",
      "Retrieving data: 807.6s\r",
      "Retrieving data: 809.0s\r",
      "Retrieving data: 810.6s\r",
      "Retrieving data: 812.3s\r",
      "Retrieving data: 813.6s\r",
      "Retrieving data: 814.9s\r",
      "Retrieving data: 816.3s\r",
      "Retrieving data: 817.5s\r",
      "Retrieving data: 818.9s\r",
      "Retrieving data: 820.1s\r",
      "Retrieving data: 821.2s\r",
      "Retrieving data: 822.5s\r",
      "Retrieving data: 824.6s\r",
      "Retrieving data: 825.9s\r",
      "Retrieving data: 827.2s\r",
      "Retrieving data: 828.3s\r",
      "Retrieving data: 829.6s\r",
      "Retrieving data: 831.1s\r",
      "Retrieving data: 832.3s\r",
      "Retrieving data: 833.6s\r",
      "Retrieving data: 835.1s\r",
      "Retrieving data: 836.4s\r",
      "Retrieving data: 851.3s\r",
      "Retrieving data: 852.5s\r",
      "Retrieving data: 853.8s\n"
     ]
    }
   ],
   "source": [
    "query <- \"SELECT ROUND(pickup_latitude, 4) AS lat,\n",
    "ROUND(pickup_longitude, 4) AS long,\n",
    "COUNT(*) AS num_pickups,\n",
    "SUM(fare_amount) AS total_revenue\n",
    "FROM [nyc-tlc:yellow.trips]\n",
    "WHERE fare_amount/trip_distance BETWEEN 2 AND 10\n",
    "GROUP BY lat, long\"\n",
    "\n",
    "df <- tbl_df(query_exec(query, project=project_id, max_pages=Inf))"
   ]
  },
  {
   "cell_type": "markdown",
   "metadata": {},
   "source": [
    "Examine data, and cache locally. (Comment/Uncomment the read/write as appropriate)"
   ]
  },
  {
   "cell_type": "code",
   "execution_count": 2,
   "metadata": {
    "collapsed": false
   },
   "outputs": [
    {
     "data": {
      "text/html": [
       "<table>\n",
       "<thead><tr><th></th><th scope=col>lat</th><th scope=col>long</th><th scope=col>num_pickups</th><th scope=col>total_revenue</th></tr></thead>\n",
       "<tbody>\n",
       "\t<tr><th scope=row>1</th><td>40.7772</td><td>-73.9552</td><td>12181</td><td>115615.1</td></tr>\n",
       "\t<tr><th scope=row>2</th><td>-73.9968</td><td>40.7372</td><td>10</td><td>101.5</td></tr>\n",
       "\t<tr><th scope=row>3</th><td>40.7508</td><td>-73.9916</td><td>7140</td><td>70124.4</td></tr>\n",
       "\t<tr><th scope=row>4</th><td>40.7574</td><td>-73.9724</td><td>4025</td><td>42911.6</td></tr>\n",
       "\t<tr><th scope=row>5</th><td>40.7904</td><td>-73.9769</td><td>8748</td><td>88959.9</td></tr>\n",
       "\t<tr><th scope=row>6</th><td>40.7182</td><td>-73.9893</td><td>3829</td><td>44125.6</td></tr>\n",
       "\t<tr><th scope=row>7</th><td>40.7121</td><td>-73.9591</td><td>5271</td><td>66410.8</td></tr>\n",
       "\t<tr><th scope=row>8</th><td>40.7717</td><td>-73.959</td><td>16957</td><td>137926.3</td></tr>\n",
       "\t<tr><th scope=row>9</th><td>40.6884</td><td>-73.9805</td><td>4870</td><td>67445.5</td></tr>\n",
       "\t<tr><th scope=row>10</th><td>40.7551</td><td>-73.9715</td><td>11107</td><td>110735.7</td></tr>\n",
       "</tbody>\n",
       "</table>\n"
      ],
      "text/latex": [
       "\\begin{tabular}{r|llll}\n",
       "  & lat & long & num_pickups & total_revenue\\\\\n",
       "\\hline\n",
       "\t1 & 40.7772 & -73.9552 & 12181 & 115615.1\\\\\n",
       "\t2 & -73.9968 & 40.7372 & 10 & 101.5\\\\\n",
       "\t3 & 40.7508 & -73.9916 & 7140 & 70124.4\\\\\n",
       "\t4 & 40.7574 & -73.9724 & 4025 & 42911.6\\\\\n",
       "\t5 & 40.7904 & -73.9769 & 8748 & 88959.9\\\\\n",
       "\t6 & 40.7182 & -73.9893 & 3829 & 44125.6\\\\\n",
       "\t7 & 40.7121 & -73.9591 & 5271 & 66410.8\\\\\n",
       "\t8 & 40.7717 & -73.959 & 16957 & 137926.3\\\\\n",
       "\t9 & 40.6884 & -73.9805 & 4870 & 67445.5\\\\\n",
       "\t10 & 40.7551 & -73.9715 & 11107 & 110735.7\\\\\n",
       "\\end{tabular}\n"
      ],
      "text/plain": [
       "        lat     long num_pickups total_revenue\n",
       "1   40.7772 -73.9552       12181      115615.1\n",
       "2  -73.9968  40.7372          10         101.5\n",
       "3   40.7508 -73.9916        7140       70124.4\n",
       "4   40.7574 -73.9724        4025       42911.6\n",
       "5   40.7904 -73.9769        8748       88959.9\n",
       "6   40.7182 -73.9893        3829       44125.6\n",
       "7   40.7121 -73.9591        5271       66410.8\n",
       "8   40.7717 -73.9590       16957      137926.3\n",
       "9   40.6884 -73.9805        4870       67445.5\n",
       "10  40.7551 -73.9715       11107      110735.7"
      ]
     },
     "execution_count": 2,
     "metadata": {},
     "output_type": "execute_result"
    },
    {
     "data": {
      "text/html": [
       "'# of Rows in Dataframe: 4457474'"
      ],
      "text/latex": [
       "'# of Rows in Dataframe: 4457474'"
      ],
      "text/markdown": [
       "'# of Rows in Dataframe: 4457474'"
      ],
      "text/plain": [
       "[1] \"# of Rows in Dataframe: 4457474\""
      ]
     },
     "execution_count": 2,
     "metadata": {},
     "output_type": "execute_result"
    },
    {
     "data": {
      "text/html": [
       "'Dataframe Size: 119 Mb'"
      ],
      "text/latex": [
       "'Dataframe Size: 119 Mb'"
      ],
      "text/markdown": [
       "'Dataframe Size: 119 Mb'"
      ],
      "text/plain": [
       "[1] \"Dataframe Size: 119 Mb\""
      ]
     },
     "execution_count": 2,
     "metadata": {},
     "output_type": "execute_result"
    }
   ],
   "source": [
    "df <- read.csv(\"nyc-taxi-data.csv\", header=T)\n",
    "\n",
    "df %>% head(10)\n",
    "\n",
    "sprintf(\"# of Rows in Dataframe: %s\", nrow(df))\n",
    "sprintf(\"Dataframe Size: %s\", format(object.size(df), units = \"MB\"))\n",
    "\n",
    "# write.csv(df, \"nyc-taxi-data.csv\", row.names=F)"
   ]
  },
  {
   "cell_type": "code",
   "execution_count": 3,
   "metadata": {
    "collapsed": true
   },
   "outputs": [],
   "source": [
    "min_lat <- 40.5774\n",
    "max_lat <- 40.9176\n",
    "min_long <- -74.15\n",
    "max_long <- -73.7004"
   ]
  },
  {
   "cell_type": "markdown",
   "metadata": {},
   "source": [
    "Build theme for the map, scripping out most of the grid and replacing it with black."
   ]
  },
  {
   "cell_type": "code",
   "execution_count": 4,
   "metadata": {
    "collapsed": true
   },
   "outputs": [],
   "source": [
    "theme_map_dark <- function(palate_color = \"Greys\") {\n",
    "\n",
    "palate <- brewer.pal(palate_color, n=9)\n",
    "  color.background = \"black\"\n",
    "  color.grid.minor = \"black\"\n",
    "  color.grid.major = \"black\"\n",
    "  color.axis.text = palate[1]\n",
    "  color.axis.title = palate[1]\n",
    "  color.title = palate[1]\n",
    "\n",
    "  font.title <- \"Source Sans Pro\"\n",
    "  font.axis <- \"Open Sans Condensed Bold\"\n",
    "\n",
    "theme_bw(base_size=5) +\n",
    "    theme(panel.background=element_rect(fill=color.background, color=color.background)) +\n",
    "    theme(plot.background=element_rect(fill=color.background, color=color.background)) +\n",
    "    theme(panel.border=element_rect(color=color.background)) +\n",
    "    theme(panel.grid.major=element_blank()) +\n",
    "    theme(panel.grid.minor=element_blank()) +\n",
    "    theme(axis.ticks=element_blank()) +\n",
    "    theme(legend.background = element_rect(fill=color.background)) +\n",
    "    theme(legend.text = element_text(size=3,colour=color.axis.title,family=font.axis)) +\n",
    "    theme(legend.title = element_blank(), legend.position=\"top\", legend.direction=\"horizontal\") +\n",
    "    theme(legend.key.width=unit(1, \"cm\"), legend.key.height=unit(0.25, \"cm\"), legend.margin=unit(-0.5,\"cm\")) +\n",
    "    theme(plot.title=element_text(colour=color.title,family=font.title, size=5)) +\n",
    "    theme(axis.text.x=element_blank()) +\n",
    "    theme(axis.text.y=element_blank()) +\n",
    "    theme(axis.title.y=element_blank()) +\n",
    "    theme(axis.title.x=element_blank()) +\n",
    "    theme(plot.margin = unit(c(0.0, -0.5, -1, -0.75), \"cm\")) +\n",
    "    theme(strip.background = element_rect(fill=color.background, color=color.background),strip.text=element_text(size=7,colour=color.axis.title,family=font.title))\n",
    "\n",
    "}"
   ]
  },
  {
   "cell_type": "markdown",
   "metadata": {},
   "source": [
    "# Plotting NYC\n",
    "\n",
    "Now we can plot NYC! Let's test using the most basic ggplot2 plot possible."
   ]
  },
  {
   "cell_type": "code",
   "execution_count": 32,
   "metadata": {
    "collapsed": false
   },
   "outputs": [
    {
     "data": {
      "text/html": [
       "<strong>pdf:</strong> 2"
      ],
      "text/latex": [
       "\\textbf{pdf:} 2"
      ],
      "text/markdown": [
       "**pdf:** 2"
      ],
      "text/plain": [
       "pdf \n",
       "  2 "
      ]
     },
     "execution_count": 32,
     "metadata": {},
     "output_type": "execute_result"
    }
   ],
   "source": [
    "plot <- ggplot(df, aes(x=long, y=lat)) +\n",
    "            geom_point(size=0.06) +\n",
    "\n",
    "png(\"nyc-taxi-1.png\", w=600, h=600)\n",
    "plot\n",
    "dev.off()"
   ]
  },
  {
   "cell_type": "markdown",
   "metadata": {},
   "source": [
    "![](nyc-taxi-1.png)\n",
    "\n",
    "Latitude and Longitude in the thousands? That's definitely not right.\n",
    "\n",
    "Let's force the bounding box."
   ]
  },
  {
   "cell_type": "code",
   "execution_count": 33,
   "metadata": {
    "collapsed": false
   },
   "outputs": [
    {
     "data": {
      "text/html": [
       "<strong>pdf:</strong> 2"
      ],
      "text/latex": [
       "\\textbf{pdf:} 2"
      ],
      "text/markdown": [
       "**pdf:** 2"
      ],
      "text/plain": [
       "pdf \n",
       "  2 "
      ]
     },
     "execution_count": 33,
     "metadata": {},
     "output_type": "execute_result"
    }
   ],
   "source": [
    "plot <- ggplot(df, aes(x=long, y=lat)) +\n",
    "            geom_point(size=0.06) +\n",
    "            scale_x_continuous(limits=c(min_long, max_long)) +\n",
    "            scale_y_continuous(limits=c(min_lat, max_lat))\n",
    "\n",
    "png(\"nyc-taxi-2.png\", w=600, h=600)\n",
    "plot\n",
    "dev.off()"
   ]
  },
  {
   "cell_type": "markdown",
   "metadata": {},
   "source": [
    "![](nyc-taxi-2.png)"
   ]
  },
  {
   "cell_type": "markdown",
   "metadata": {},
   "source": [
    "Better. Let's apply the theme and force a 300 dpi to reduce aliasing."
   ]
  },
  {
   "cell_type": "code",
   "execution_count": 34,
   "metadata": {
    "collapsed": false
   },
   "outputs": [
    {
     "data": {
      "text/html": [
       "<strong>pdf:</strong> 2"
      ],
      "text/latex": [
       "\\textbf{pdf:} 2"
      ],
      "text/markdown": [
       "**pdf:** 2"
      ],
      "text/plain": [
       "pdf \n",
       "  2 "
      ]
     },
     "execution_count": 34,
     "metadata": {},
     "output_type": "execute_result"
    }
   ],
   "source": [
    "plot <- ggplot(df %>% filter(num_pickups > 10), aes(x=long, y=lat)) +\n",
    "            geom_point(color=\"white\", size=0.06) +\n",
    "            scale_x_continuous(limits=c(min_long, max_long)) +\n",
    "            scale_y_continuous(limits=c(min_lat, max_lat)) +\n",
    "            theme_map_dark()\n",
    "\n",
    "png(\"nyc-taxi-3.png\", w=600, h=600, res=300)\n",
    "plot\n",
    "dev.off()"
   ]
  },
  {
   "cell_type": "markdown",
   "metadata": {},
   "source": [
    "![](nyc-taxi-3.png)"
   ]
  },
  {
   "cell_type": "markdown",
   "metadata": {},
   "source": [
    "Even better. Make the final improvements and annotations to the chart."
   ]
  },
  {
   "cell_type": "code",
   "execution_count": 49,
   "metadata": {
    "collapsed": false
   },
   "outputs": [
    {
     "data": {
      "text/html": [
       "<strong>pdf:</strong> 2"
      ],
      "text/latex": [
       "\\textbf{pdf:} 2"
      ],
      "text/markdown": [
       "**pdf:** 2"
      ],
      "text/plain": [
       "pdf \n",
       "  2 "
      ]
     },
     "execution_count": 49,
     "metadata": {},
     "output_type": "execute_result"
    }
   ],
   "source": [
    "plot <- ggplot(df %>% filter(num_pickups > 10), aes(x=long, y=lat, color=num_pickups)) +\n",
    "            geom_point(size=0.06) +\n",
    "            scale_x_continuous(limits=c(min_long, max_long)) +\n",
    "            scale_y_continuous(limits=c(min_lat, max_lat)) +\n",
    "            theme_map_dark() +\n",
    "            scale_color_gradient(low=\"#CCCCCC\", high=\"#8E44AD\", trans=\"log\") +\n",
    "            labs(title = \"Map of NYC, Plotted Using Locations Of All Yellow Taxi Pickups\") +\n",
    "            theme(legend.position=\"none\") +\n",
    "            coord_equal()\n",
    "\n",
    "png(\"nyc-taxi-4.png\", w=600, h=600, res=300)\n",
    "plot\n",
    "dev.off()"
   ]
  },
  {
   "cell_type": "markdown",
   "metadata": {},
   "source": [
    "![](nyc-taxi-4.png)"
   ]
  },
  {
   "cell_type": "markdown",
   "metadata": {},
   "source": [
    "`coord_equal` results in white space above the chart. Here's a (failed) attempt to fix it using tools from the `grid` package."
   ]
  },
  {
   "cell_type": "code",
   "execution_count": 88,
   "metadata": {
    "collapsed": true
   },
   "outputs": [],
   "source": [
    "#map_save <- function(filename, plot) {\n",
    "#    vp = viewport(grid.layout(1, 1))\n",
    "#    \n",
    "#    png(filename, w=600, h=600, res=300)\n",
    "#    grid.newpage()\n",
    "#    print(plot, vp=vp)\n",
    "#    grid.rect(gp=gpar(fill=\"black\", col=\"black\"))\n",
    "#    pushViewport(viewport(grid.layout(1, 1)))\n",
    "#    print(plot, vp=vp)\n",
    "#    dev.off()\n",
    "#}"
   ]
  },
  {
   "cell_type": "markdown",
   "metadata": {},
   "source": [
    "Add Hex bins above the map we've generated."
   ]
  },
  {
   "cell_type": "code",
   "execution_count": 23,
   "metadata": {
    "collapsed": false
   },
   "outputs": [
    {
     "data": {
      "text/html": [
       "<strong>pdf:</strong> 2"
      ],
      "text/latex": [
       "\\textbf{pdf:} 2"
      ],
      "text/markdown": [
       "**pdf:** 2"
      ],
      "text/plain": [
       "pdf \n",
       "  2 "
      ]
     },
     "execution_count": 23,
     "metadata": {},
     "output_type": "execute_result"
    }
   ],
   "source": [
    "plot <- ggplot(df %>% filter(num_pickups > 20), aes(x=long, y=lat, z=total_revenue)) +\n",
    "            geom_point(size=0.06, color=\"#999999\") +\n",
    "            stat_summary_hex(fun = sum, bins=100, alpha=0.7) +\n",
    "            scale_x_continuous(limits=c(min_long, max_long)) +\n",
    "            scale_y_continuous(limits=c(min_lat, max_lat)) +\n",
    "            theme_map_dark() +\n",
    "            scale_fill_gradient(low=\"#CCCCCC\", high=\"#27AE60\", labels=dollar) +\n",
    "            labs(title = \"Total Revenue for NYC Yellow Taxis by Pickup Location, from Jan 2009 ― June 2015\") +\n",
    "            coord_equal()\n",
    "\n",
    "png(\"nyc-taxi-5.png\", w=950, h=860, res=300)\n",
    "plot\n",
    "dev.off()"
   ]
  },
  {
   "cell_type": "markdown",
   "metadata": {
    "collapsed": true
   },
   "source": [
    "![](nyc-taxi-5.png)"
   ]
  },
  {
   "cell_type": "markdown",
   "metadata": {},
   "source": [
    "Conveys information accurately, but aestetics could be improved. One last try:"
   ]
  },
  {
   "cell_type": "code",
   "execution_count": 42,
   "metadata": {
    "collapsed": false
   },
   "outputs": [
    {
     "data": {
      "text/html": [
       "<strong>pdf:</strong> 2"
      ],
      "text/latex": [
       "\\textbf{pdf:} 2"
      ],
      "text/markdown": [
       "**pdf:** 2"
      ],
      "text/plain": [
       "pdf \n",
       "  2 "
      ]
     },
     "execution_count": 42,
     "metadata": {},
     "output_type": "execute_result"
    }
   ],
   "source": [
    "# Helper function to make bins not show if total revenue is below threshold\n",
    "total_rev <- function(x, threshold = 10^5) {\n",
    "    if (sum(x) < threshold) {return (NA)}\n",
    "    else {return (sum(x))}\n",
    "}\n",
    "\n",
    "plot <- ggplot(df %>% filter(num_pickups > 10), aes(x=long, y=lat, z=total_revenue)) +\n",
    "            geom_point(size=0.06, color=\"#999999\") +\n",
    "            stat_summary_hex(fun = total_rev, bins=100, alpha=0.5) +\n",
    "            scale_x_continuous(limits=c(-74.0224, -73.8521)) +\n",
    "            scale_y_continuous(limits=c(40.6959, 40.8348)) +\n",
    "            theme_map_dark() +\n",
    "            scale_fill_gradient(low=\"#FFFFFF\", high=\"#E74C3C\", labels=dollar, trans=\"log\", breaks=c(10^(6:8))) +\n",
    "            labs(title = \"Total Revenue for NYC Yellow Taxis by Pickup Location, from Jan 2009 ― June 2015\") +\n",
    "            coord_equal()\n",
    "\n",
    "png(\"nyc-taxi-6.png\", w=900, h=900, res=300)\n",
    "plot\n",
    "dev.off()"
   ]
  },
  {
   "cell_type": "markdown",
   "metadata": {},
   "source": [
    "![](nyc-taxi-6.png)"
   ]
  },
  {
   "cell_type": "markdown",
   "metadata": {
    "collapsed": true
   },
   "source": [
    "# The MIT License (MIT)\n",
    "\n",
    "Copyright (c) 2015 Max Woolf\n",
    "\n",
    "Permission is hereby granted, free of charge, to any person obtaining a copy\n",
    "of this software and associated documentation files (the \"Software\"), to deal\n",
    "in the Software without restriction, including without limitation the rights\n",
    "to use, copy, modify, merge, publish, distribute, sublicense, and/or sell\n",
    "copies of the Software, and to permit persons to whom the Software is\n",
    "furnished to do so, subject to the following conditions:\n",
    "\n",
    "The above copyright notice and this permission notice shall be included in all\n",
    "copies or substantial portions of the Software.\n",
    "\n",
    "THE SOFTWARE IS PROVIDED \"AS IS\", WITHOUT WARRANTY OF ANY KIND, EXPRESS OR\n",
    "IMPLIED, INCLUDING BUT NOT LIMITED TO THE WARRANTIES OF MERCHANTABILITY,\n",
    "FITNESS FOR A PARTICULAR PURPOSE AND NONINFRINGEMENT. IN NO EVENT SHALL THE\n",
    "AUTHORS OR COPYRIGHT HOLDERS BE LIABLE FOR ANY CLAIM, DAMAGES OR OTHER\n",
    "LIABILITY, WHETHER IN AN ACTION OF CONTRACT, TORT OR OTHERWISE, ARISING FROM,\n",
    "OUT OF OR IN CONNECTION WITH THE SOFTWARE OR THE USE OR OTHER DEALINGS IN THE\n",
    "SOFTWARE."
   ]
  }
 ],
 "metadata": {
  "kernelspec": {
   "display_name": "R",
   "language": "R",
   "name": "ir"
  },
  "language_info": {
   "codemirror_mode": "r",
   "file_extension": ".r",
   "mimetype": "text/x-r-source",
   "name": "R",
   "pygments_lexer": "r",
   "version": "3.2.2"
  }
 },
 "nbformat": 4,
 "nbformat_minor": 0
}
